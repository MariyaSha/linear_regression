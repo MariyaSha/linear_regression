{
 "cells": [
  {
   "cell_type": "markdown",
   "id": "496ddfa0-57ab-4f88-93dc-d7b713cdd18e",
   "metadata": {},
   "source": [
    "# Linear Regression Algorithm \n",
    "\n",
    "The following notebook includes code from my Linear Regression video tutorial.\n",
    "\n",
    "## Two Data Points\n",
    "The following code example shows how to predict the y location of any x, given 2 existing data points."
   ]
  },
  {
   "cell_type": "code",
   "execution_count": 5,
   "id": "81f71725-91e8-4144-9e3a-ee237baf567c",
   "metadata": {},
   "outputs": [
    {
     "name": "stdout",
     "output_type": "stream",
     "text": [
      "a:-4.0, b:2.0, y:12.0\n"
     ]
    }
   ],
   "source": [
    "# data points 1 and 2\n",
    "x1, x2 = 3, 4\n",
    "y1, y2 = 2, 4\n",
    "\n",
    "# calculate slope\n",
    "b = (y2 - y1)/(x2 - x1)\n",
    "\n",
    "# calculate y-intercept (choose one)\n",
    "a = y1 - (b*x1)\n",
    "a = y2 - (b*x2)\n",
    "\n",
    "# calculate the y of a given x\n",
    "x = 8\n",
    "y = a + (b*x)\n",
    "\n",
    "print(\"a:{}, b:{}, y:{}\".format(a, b, y))"
   ]
  },
  {
   "cell_type": "markdown",
   "id": "9f9c5b3e-2e44-4882-9cac-5463a436e995",
   "metadata": {},
   "source": [
    "## Two Samples and Two Features\n",
    "The following code example shows how to predict the value of a house, given the number of rooms and build year of two existing houses."
   ]
  },
  {
   "cell_type": "code",
   "execution_count": 14,
   "id": "e1c767e0-65fd-4933-a17c-612f6032974b",
   "metadata": {},
   "outputs": [
    {
     "name": "stdout",
     "output_type": "stream",
     "text": [
      "a:-201.89999999999998, b:2.0, y:1.8000000000000398\n"
     ]
    }
   ],
   "source": [
    "# houses = [features], target\n",
    "x1, y1 = [3, 2015], 0.8\n",
    "x2, y2 = [5, 2023], 1.6\n",
    "\n",
    "# calculate slopes for both features\n",
    "b0 = (y2 - y1)/(x2[0] - x1[0])\n",
    "b1 = (y2 - y1)/(x2[1] - x1[1])\n",
    "\n",
    "# calculate y-intercept\n",
    "a = y1 - (b0 * x1[0] + b1 * x1[1])\n",
    "\n",
    "# predict the value of another house\n",
    "x = [4, 2021]\n",
    "y = a + b0 * x[0] + b1 * x[1]\n",
    "print(\"a:{}, b:{}, y:{}\".format(a, b, y))\n"
   ]
  },
  {
   "cell_type": "markdown",
   "id": "40c56974-322a-4d0f-a0b9-c2681eb04688",
   "metadata": {},
   "source": [
    "## Three Samples with Residual\n",
    "The following code example shows how to predict the y location of any x, given 3 existing data points."
   ]
  },
  {
   "cell_type": "code",
   "execution_count": 18,
   "id": "b0ede401-62e6-46f3-99b6-ed47752df155",
   "metadata": {},
   "outputs": [
    {
     "name": "stdout",
     "output_type": "stream",
     "text": [
      "a:-5.0, b:2.0, y:7.0, res:-3.0\n"
     ]
    }
   ],
   "source": [
    "# data points\n",
    "x1, x2, x3 = 3, 4, 7\n",
    "y1, y2, y3 = 2, 4, 7  \n",
    "\n",
    "# calculate slope using first two points\n",
    "b = (y2 - y1) / (x2 - x1)\n",
    "\n",
    "# calculate initial y-intercept using first point\n",
    "a = y1 - (b * x1)\n",
    "\n",
    "# predict y3 \n",
    "y3_pred = a + (b * x3)\n",
    "# calculate residual\n",
    "res = y3 - y3_pred\n",
    "# skew the line of best fit with residual\n",
    "a += res / 3 \n",
    "\n",
    "# calculate the y of a given x\n",
    "x = 6\n",
    "y = a + (b * x)\n",
    "\n",
    "print(\"a:{}, b:{}, y:{}, res:{}\".format(a, b, y, res))"
   ]
  }
 ],
 "metadata": {
  "kernelspec": {
   "display_name": "Python 3 (ipykernel)",
   "language": "python",
   "name": "python3"
  },
  "language_info": {
   "codemirror_mode": {
    "name": "ipython",
    "version": 3
   },
   "file_extension": ".py",
   "mimetype": "text/x-python",
   "name": "python",
   "nbconvert_exporter": "python",
   "pygments_lexer": "ipython3",
   "version": "3.11.10"
  }
 },
 "nbformat": 4,
 "nbformat_minor": 5
}
